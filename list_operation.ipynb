{
  "nbformat": 4,
  "nbformat_minor": 0,
  "metadata": {
    "colab": {
      "provenance": []
    },
    "kernelspec": {
      "name": "python3",
      "display_name": "Python 3"
    },
    "language_info": {
      "name": "python"
    }
  },
  "cells": [
    {
      "cell_type": "code",
      "execution_count": 1,
      "metadata": {
        "id": "6nxqnSKkxVej"
      },
      "outputs": [],
      "source": [
        "#lists"
      ]
    },
    {
      "cell_type": "code",
      "source": [
        "x=list()"
      ],
      "metadata": {
        "id": "1RgsQTF-ylHP"
      },
      "execution_count": 3,
      "outputs": []
    },
    {
      "cell_type": "code",
      "source": [
        "type(x)"
      ],
      "metadata": {
        "colab": {
          "base_uri": "https://localhost:8080/"
        },
        "id": "iXQEdQKByocd",
        "outputId": "eef00cc2-7b4d-4327-8e41-5494d2821dce"
      },
      "execution_count": 4,
      "outputs": [
        {
          "output_type": "execute_result",
          "data": {
            "text/plain": [
              "list"
            ]
          },
          "metadata": {},
          "execution_count": 4
        }
      ]
    },
    {
      "cell_type": "code",
      "source": [
        "name=[\"kriethi\",\"hari\",\"hema\",\"geevin\",\"sujeeth\"]"
      ],
      "metadata": {
        "id": "xa0-aFzvyxQs"
      },
      "execution_count": 5,
      "outputs": []
    },
    {
      "cell_type": "code",
      "source": [
        "name.index(\"kriethi\")"
      ],
      "metadata": {
        "colab": {
          "base_uri": "https://localhost:8080/"
        },
        "id": "24fmAbrdy_MD",
        "outputId": "fd9b8b73-d03d-48b9-e457-79c4584e7c06"
      },
      "execution_count": 6,
      "outputs": [
        {
          "output_type": "execute_result",
          "data": {
            "text/plain": [
              "0"
            ]
          },
          "metadata": {},
          "execution_count": 6
        }
      ]
    },
    {
      "cell_type": "code",
      "source": [
        "name.append(\"kriethi\")"
      ],
      "metadata": {
        "id": "z2S0HrIxzHnj"
      },
      "execution_count": 7,
      "outputs": []
    },
    {
      "cell_type": "code",
      "source": [
        "name"
      ],
      "metadata": {
        "colab": {
          "base_uri": "https://localhost:8080/"
        },
        "id": "t2nXDUA-zRjz",
        "outputId": "060a13da-30e6-4744-b61e-bbc4f6e84a76"
      },
      "execution_count": 8,
      "outputs": [
        {
          "output_type": "execute_result",
          "data": {
            "text/plain": [
              "['kriethi', 'hari', 'hema', 'geevin', 'sujeeth', 'kriethi']"
            ]
          },
          "metadata": {},
          "execution_count": 8
        }
      ]
    },
    {
      "cell_type": "code",
      "source": [
        "name.count(\"kriethi\")"
      ],
      "metadata": {
        "colab": {
          "base_uri": "https://localhost:8080/"
        },
        "id": "OCBy1nj-zT9T",
        "outputId": "0abf4acd-b11a-4f97-bc2b-c3232858caa7"
      },
      "execution_count": 9,
      "outputs": [
        {
          "output_type": "execute_result",
          "data": {
            "text/plain": [
              "2"
            ]
          },
          "metadata": {},
          "execution_count": 9
        }
      ]
    },
    {
      "cell_type": "code",
      "source": [
        "id=name.copy()"
      ],
      "metadata": {
        "id": "yJio0Fa-zdPL"
      },
      "execution_count": 10,
      "outputs": []
    },
    {
      "cell_type": "code",
      "source": [
        "id"
      ],
      "metadata": {
        "colab": {
          "base_uri": "https://localhost:8080/"
        },
        "id": "pkttNZM-zxR6",
        "outputId": "6aedfba3-f8bb-4c82-8b44-ea3dfc0f038e"
      },
      "execution_count": 11,
      "outputs": [
        {
          "output_type": "execute_result",
          "data": {
            "text/plain": [
              "['kriethi', 'hari', 'hema', 'geevin', 'sujeeth', 'kriethi']"
            ]
          },
          "metadata": {},
          "execution_count": 11
        }
      ]
    },
    {
      "cell_type": "code",
      "source": [
        "name.clear()"
      ],
      "metadata": {
        "id": "uzoDYX-KzzIB"
      },
      "execution_count": 15,
      "outputs": []
    },
    {
      "cell_type": "code",
      "source": [
        "name"
      ],
      "metadata": {
        "colab": {
          "base_uri": "https://localhost:8080/"
        },
        "id": "0wRfvslN0BfR",
        "outputId": "ce096a8f-e7c6-4a96-d516-e4e9589eb26a"
      },
      "execution_count": 16,
      "outputs": [
        {
          "output_type": "execute_result",
          "data": {
            "text/plain": [
              "[]"
            ]
          },
          "metadata": {},
          "execution_count": 16
        }
      ]
    },
    {
      "cell_type": "code",
      "source": [
        "id.insert(5,\"rishi\")"
      ],
      "metadata": {
        "id": "Z76UcBms0DTZ"
      },
      "execution_count": 17,
      "outputs": []
    },
    {
      "cell_type": "code",
      "source": [
        "id"
      ],
      "metadata": {
        "colab": {
          "base_uri": "https://localhost:8080/"
        },
        "id": "xweLukWT0a0X",
        "outputId": "f0bc70a1-91b4-479e-bdcc-c47966afc2a8"
      },
      "execution_count": 18,
      "outputs": [
        {
          "output_type": "execute_result",
          "data": {
            "text/plain": [
              "['kriethi', 'hari', 'hema', 'geevin', 'sujeeth', 'rishi', 'kriethi']"
            ]
          },
          "metadata": {},
          "execution_count": 18
        }
      ]
    },
    {
      "cell_type": "code",
      "source": [
        "id.pop(6)"
      ],
      "metadata": {
        "colab": {
          "base_uri": "https://localhost:8080/",
          "height": 35
        },
        "id": "Zar2tTya0cDn",
        "outputId": "739242c9-1a10-47d1-d50a-074cdc750aea"
      },
      "execution_count": 19,
      "outputs": [
        {
          "output_type": "execute_result",
          "data": {
            "text/plain": [
              "'kriethi'"
            ],
            "application/vnd.google.colaboratory.intrinsic+json": {
              "type": "string"
            }
          },
          "metadata": {},
          "execution_count": 19
        }
      ]
    },
    {
      "cell_type": "code",
      "source": [
        "id"
      ],
      "metadata": {
        "colab": {
          "base_uri": "https://localhost:8080/"
        },
        "id": "2sQeoy_B0tuf",
        "outputId": "f09b73d7-d1d4-4474-e768-8f2836648207"
      },
      "execution_count": 20,
      "outputs": [
        {
          "output_type": "execute_result",
          "data": {
            "text/plain": [
              "['kriethi', 'hari', 'hema', 'geevin', 'sujeeth', 'rishi']"
            ]
          },
          "metadata": {},
          "execution_count": 20
        }
      ]
    },
    {
      "cell_type": "code",
      "source": [
        "id.remove(\"rishi\")"
      ],
      "metadata": {
        "id": "Srmdeo7k06bu"
      },
      "execution_count": 21,
      "outputs": []
    },
    {
      "cell_type": "code",
      "source": [
        "id"
      ],
      "metadata": {
        "colab": {
          "base_uri": "https://localhost:8080/"
        },
        "id": "bi2-I5b_1Cdd",
        "outputId": "fcfc5354-c3af-4bae-e1cb-1686747ae716"
      },
      "execution_count": 22,
      "outputs": [
        {
          "output_type": "execute_result",
          "data": {
            "text/plain": [
              "['kriethi', 'hari', 'hema', 'geevin', 'sujeeth']"
            ]
          },
          "metadata": {},
          "execution_count": 22
        }
      ]
    },
    {
      "cell_type": "code",
      "source": [
        "id.reverse()"
      ],
      "metadata": {
        "id": "Lr8fnSMU1Kok"
      },
      "execution_count": 23,
      "outputs": []
    },
    {
      "cell_type": "code",
      "source": [
        "id"
      ],
      "metadata": {
        "colab": {
          "base_uri": "https://localhost:8080/"
        },
        "id": "jNgmAHrh1PSN",
        "outputId": "ef8422c6-e8b1-4642-e0ba-f32052e423b5"
      },
      "execution_count": 24,
      "outputs": [
        {
          "output_type": "execute_result",
          "data": {
            "text/plain": [
              "['sujeeth', 'geevin', 'hema', 'hari', 'kriethi']"
            ]
          },
          "metadata": {},
          "execution_count": 24
        }
      ]
    }
  ]
}